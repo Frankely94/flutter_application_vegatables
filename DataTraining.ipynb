{
  "cells": [
    {
      "cell_type": "code",
      "execution_count": 1,
      "metadata": {
        "colab": {
          "base_uri": "https://localhost:8080/"
        },
        "id": "OYMDUdRZGKjQ",
        "outputId": "000e0c5e-3b22-4c51-eebb-a8beae125cf8"
      },
      "outputs": [
        {
          "output_type": "stream",
          "name": "stdout",
          "text": [
            "Mounted at /content/drive\n"
          ]
        }
      ],
      "source": [
        "from google.colab import drive\n",
        "drive.mount('/content/drive')"
      ]
    },
    {
      "cell_type": "code",
      "execution_count": 2,
      "metadata": {
        "id": "mZlU7LLolmc4"
      },
      "outputs": [],
      "source": [
        "\n",
        "import tensorflow as tf\n",
        "import os #for file management\n",
        "from tensorflow import keras\n",
        "from tensorflow.keras import layers\n",
        "import matplotlib.pyplot as plt"
      ]
    },
    {
      "cell_type": "code",
      "execution_count": 3,
      "metadata": {
        "id": "GwXR1Vwumj-j"
      },
      "outputs": [],
      "source": [
        "base_dir = '/content/drive/MyDrive/Colab Notebooks/Fruit' #setting the base_dir variable to the location of the dataset containing the images"
      ]
    },
    {
      "cell_type": "code",
      "execution_count": 4,
      "metadata": {
        "colab": {
          "base_uri": "https://localhost:8080/"
        },
        "id": "V1wdndGVmmUK",
        "outputId": "b2b5a006-6bdc-4b0f-a7bb-ff82e299bd5d"
      },
      "outputs": [
        {
          "output_type": "stream",
          "name": "stdout",
          "text": [
            "Found 898 images belonging to 22 classes.\n",
            "Found 216 images belonging to 22 classes.\n"
          ]
        }
      ],
      "source": [
        "#now we will do some preprocessing, i.e we are preparing the raw data to make it suitable for a building and training models\n",
        "IMAGE_SIZE = 224 #image size that we are going to set the images in the dataset to.\n",
        "BATCH_SIZE = 32 #the number of images we are inputting into the neural network at once. was to be 64\n",
        "\n",
        "datagen = tf.keras.preprocessing.image.ImageDataGenerator( #preprocessing our image\n",
        "    rescale = 1./255, #firstly, rescaling it to 1/255 which will make the file size smaller, hence reducing the training time\n",
        "    validation_split=0.2 #secondly, normally a dataset has a test set and a training set, \n",
        "    #validation set is normally to test our neural network,which would give us a measure of accuracy on how well the neural network will do on the predictions.\n",
        "    #here we are telling keras to use 20% for validation and 80% training\n",
        ")\n",
        "\n",
        "train_generator = datagen.flow_from_directory( #training generator\n",
        "    base_dir, #the directory having the fruits and vegetable photos\n",
        "    target_size=(IMAGE_SIZE, IMAGE_SIZE),  #converting images to 224 by 224\n",
        "    batch_size = BATCH_SIZE, #images getting inputed into the neural network through each epoch or each step\n",
        "    subset='training' #the name we will call it\n",
        ")\n",
        "val_generator = datagen.flow_from_directory(  #validation generator\n",
        "    base_dir, \n",
        "    target_size=(IMAGE_SIZE, IMAGE_SIZE),\n",
        "    batch_size=BATCH_SIZE,\n",
        "    subset='validation'\n",
        ")\n",
        "#So as we can see from below, our training generator dataset 54191 images and the testing generator dataset has 13502 images"
      ]
    },
    {
      "cell_type": "code",
      "execution_count": 5,
      "metadata": {
        "colab": {
          "base_uri": "https://localhost:8080/"
        },
        "id": "ucO-TJX6mqhT",
        "outputId": "f4d1814e-6918-4d7f-b5c5-4dbde076ebad"
      },
      "outputs": [
        {
          "output_type": "stream",
          "name": "stdout",
          "text": [
            "{'Avocado': 0, 'Banana': 1, 'Golden-Delicious': 2, 'Granny-Smith': 3, 'Kiwi': 4, 'Lemon': 5, 'Lime': 6, 'Mango': 7, 'Melon': 8, 'Nectarine': 9, 'Orange': 10, 'Papaya': 11, 'Peach': 12, 'Pear': 13, 'Pineapple': 14, 'Pink-Lady': 15, 'Plum': 16, 'Pomegranate': 17, 'Red-Delicious': 18, 'Red-Grapefruit': 19, 'Royal-Gala': 20, 'Satsumas': 21}\n"
          ]
        }
      ],
      "source": [
        "#Next we have to create a labels.txt file that will hold all our labels (important for Flutter)\n",
        "print(train_generator.class_indices) #prints every single key and class of that dataset\n",
        "labels = '\\n'.join(sorted(train_generator.class_indices.keys())) #print all these keys as a list of labels into a text file called labels.txt\n",
        "with open('labels.txt', 'w') as f: #writes to the labels.txt file, and if it doesnt exists, it creates one, and if it does exist, it will overrite it. (thats what 'w' is for)\n",
        "    f.write(labels)\n",
        "\n",
        "#preprocessing of raw data is hence complete and now its time to build our neural network"
      ]
    },
    {
      "cell_type": "code",
      "execution_count": 6,
      "metadata": {
        "id": "nXPLahhdmxri",
        "colab": {
          "base_uri": "https://localhost:8080/"
        },
        "outputId": "887509c4-f723-4240-cb34-ed24e55088fa"
      },
      "outputs": [
        {
          "output_type": "stream",
          "name": "stdout",
          "text": [
            "Downloading data from https://storage.googleapis.com/tensorflow/keras-applications/mobilenet_v2/mobilenet_v2_weights_tf_dim_ordering_tf_kernels_1.0_224_no_top.h5\n",
            "9412608/9406464 [==============================] - 0s 0us/step\n",
            "9420800/9406464 [==============================] - 0s 0us/step\n"
          ]
        }
      ],
      "source": [
        "#building a neural network using transfer learning method where we take a pretrained neural network called MobileNetV2 which is a convolutional neural network architecture that seeks to perform well on mobile devices and can predict up to 80 different classes\n",
        "#we are going to have a base model on top of which we are going to add pre trained neural network to have it predict the classes we want\n",
        "IMG_SHAPE = (IMAGE_SIZE, IMAGE_SIZE, 3) \n",
        "base_model = tf.keras.applications.MobileNetV2( #grabbing pretrained neural network of choice\n",
        "    input_shape=IMG_SHAPE,\n",
        "    include_top=False, #this will freeze all the weights, because we dont have to retrain and change the weights, instead just add on to the MobileNetV2 CNN, so it clasiffies 5 classes instead of 80\n",
        "    weights='imagenet'\n",
        ")"
      ]
    },
    {
      "cell_type": "code",
      "execution_count": 7,
      "metadata": {
        "colab": {
          "base_uri": "https://localhost:8080/"
        },
        "id": "t8l0eUMpItjU",
        "outputId": "08fd85ce-a9f0-42db-ce88-c600008464cc"
      },
      "outputs": [
        {
          "output_type": "execute_result",
          "data": {
            "text/plain": [
              "<keras.engine.functional.Functional at 0x7f91638fb250>"
            ]
          },
          "metadata": {},
          "execution_count": 7
        }
      ],
      "source": [
        "base_model"
      ]
    },
    {
      "cell_type": "code",
      "execution_count": 8,
      "metadata": {
        "id": "_G3i_qIDmzbj"
      },
      "outputs": [],
      "source": [
        "from tensorflow import keras\n",
        "from tensorflow.keras import layers\n",
        "from tensorflow.keras.models import Sequential\n",
        "from tensorflow.keras.layers import Activation, Dense, Flatten, BatchNormalization, Conv2D, MaxPool2D, Dropout\n",
        "\n",
        "\n",
        "base_model.trainable=False #this freezes all the neurons for our base model\n",
        "model = tf.keras.Sequential([ #neural networks act in a sequence of layers, so we add layers as we want\n",
        "  base_model,\n",
        "    tf.keras.layers.Conv2D(32,3, activation='relu', padding='same'),\n",
        "    tf.keras.layers.Dropout(0.2),\n",
        "    tf.keras.layers.Conv2D(filters=64, kernel_size=(3, 3), activation='relu', padding = 'same'), #no\n",
        "    tf.keras.layers.GlobalAveragePooling2D(),\n",
        "    tf.keras.layers.Dense(22, activation='softmax')\n",
        " ])\n",
        "\n",
        "model.summary()"
      ]
    },
    {
      "cell_type": "code",
      "execution_count": 9,
      "metadata": {
        "id": "gqZChXYxm5FB"
      },
      "outputs": [],
      "source": [
        "model.compile(\n",
        "    optimizer=tf.keras.optimizers.Adam(), #Adam is a popular optimiser, designed specifically for training deep neural networks\n",
        "    loss='categorical_crossentropy', \n",
        "    metrics=['accuracy']\n",
        ")"
      ]
    },
    {
      "cell_type": "code",
      "execution_count": 10,
      "metadata": {
        "id": "i9R3EQEnm8D6",
        "colab": {
          "base_uri": "https://localhost:8080/"
        },
        "outputId": "2eac09b5-7278-4e66-e564-7060293ab5b4"
      },
      "outputs": [
        {
          "output_type": "stream",
          "name": "stdout",
          "text": [
            "Epoch 1/3\n",
            "29/29 [==============================] - 538s 18s/step - loss: 2.1634 - accuracy: 0.3831 - val_loss: 1.1807 - val_accuracy: 0.5926\n",
            "Epoch 2/3\n",
            "29/29 [==============================] - 6s 209ms/step - loss: 0.7751 - accuracy: 0.7695 - val_loss: 0.8530 - val_accuracy: 0.7361\n",
            "Epoch 3/3\n",
            "29/29 [==============================] - 6s 205ms/step - loss: 0.3758 - accuracy: 0.8898 - val_loss: 0.3854 - val_accuracy: 0.8704\n"
          ]
        }
      ],
      "source": [
        "epochs = 3 #higher the epochs, more accurate is the NN, however it could cause Overfitting, if too high\n",
        "history = model.fit(\n",
        "    train_generator, \n",
        "    epochs = epochs, \n",
        "    validation_data=val_generator \n",
        ")"
      ]
    },
    {
      "cell_type": "code",
      "source": [
        "fig, ax = plt.subplots(2,1)\n",
        "ax[0].plot(history.history['loss'], color='b', label=\"Training loss\")\n",
        "ax[0].plot(history.history['val_loss'], color='r', label=\"validation loss\",axes =ax[0])\n",
        "legend = ax[0].legend(loc='best', shadow=True)\n",
        "\n",
        "ax[1].plot(history.history['accuracy'], color='b', label=\"Training accuracy\")\n",
        "ax[1].plot(history.history['val_accuracy'], color='r',label=\"Validation accuracy\")\n",
        "legend = ax[1].legend(loc='best', shadow=True)"
      ],
      "metadata": {
        "colab": {
          "base_uri": "https://localhost:8080/",
          "height": 265
        },
        "id": "XlFzaloXCaH4",
        "outputId": "547f672a-6616-455e-d05c-059ebb10c041"
      },
      "execution_count": 13,
      "outputs": [
        {
          "output_type": "display_data",
          "data": {
            "text/plain": [
              "<Figure size 432x288 with 2 Axes>"
            ],
            "image/png": "[encoded data removed]"
          },
          "metadata": {
            "needs_background": "light"
          }
        }
      ]
    },
    {
      "cell_type": "code",
      "source": [
        "import numpy as np\n",
        "import itertools\n",
        "from sklearn.metrics import confusion_matrix\n",
        "import itertools\n",
        "import matplotlib.pyplot as plt\n",
        "from sklearn import svm, datasets\n",
        "\n",
        "\n",
        "n_batches = len(train_generator)\n",
        "X_true = np.concatenate([np.argmax(train_generator[i][1], axis=1) for i in range(n_batches)])\n",
        "X_pred_class = np.argmax(model.predict(train_generator, steps=n_batches), axis=1)\n",
        "n_batches = len(val_generator)\n",
        "Y_true = np.concatenate([np.argmax(val_generator[i][1], axis=1) for i in range(n_batches)])\n",
        "Y_pred_class = np.argmax(model.predict(val_generator, steps=n_batches), axis=1)\n",
        "def plot_confusion_matrix(cm, classes,\n",
        "                          normalize=False,\n",
        "                          title='Confusion matrix',\n",
        "                          cmap=plt.cm.Blues):\n",
        "    \"\"\"\n",
        "    This function prints and plots the confusion matrix.\n",
        "    Normalization can be applied by setting `normalize=True`.\n",
        "    \"\"\"\n",
        "    plt.imshow(cm, interpolation='nearest', cmap=cmap)\n",
        "    plt.title(title)\n",
        "    plt.colorbar()\n",
        "    tick_marks = np.arange(len(classes))\n",
        "    plt.xticks(tick_marks, classes, rotation=45)\n",
        "    plt.yticks(tick_marks, classes)\n",
        "    if normalize:\n",
        "        cm = cm.astype('float') / cm.sum(axis=1)[:, np.newaxis]\n",
        "    thresh = cm.max() / 2.\n",
        "    for i, j in itertools.product(range(cm.shape[0]), range(cm.shape[1])):\n",
        "        plt.text(j, i, cm[i, j],\n",
        "                 horizontalalignment=\"center\",\n",
        "                 color=\"white\" if cm[i, j] > thresh else \"black\")\n",
        "    plt.ylabel('True label')\n",
        "    plt.xlabel('Predicted label')\n",
        "    plt.tight_layout()\n",
        "  \n",
        "\n",
        "    "
      ],
      "metadata": {
        "id": "aLpyCmRQJ81A"
      },
      "execution_count": 11,
      "outputs": []
    },
    {
      "cell_type": "code",
      "source": [
        "confusion_mtx = confusion_matrix(X_true, X_pred_class)\n",
        "plot_confusion_matrix(confusion_mtx, classes = range(22))"
      ],
      "metadata": {
        "colab": {
          "base_uri": "https://localhost:8080/",
          "height": 297
        },
        "id": "UfEYW0MAATgT",
        "outputId": "46f7d0dd-9df0-48f0-cafa-7609870b2027"
      },
      "execution_count": 12,
      "outputs": [
        {
          "output_type": "display_data",
          "data": {
            "text/plain": [
              "<Figure size 432x288 with 2 Axes>"
            ],
            "image/png": "[encoded data removed]"
          },
          "metadata": {
            "needs_background": "light"
          }
        }
      ]
    },
    {
      "cell_type": "code",
      "source": [
        "confusion_mtx = confusion_matrix(Y_true, Y_pred_class) \n",
        "# plot the confusion matrix\n",
        "plot_confusion_matrix(confusion_mtx, classes = range(22))"
      ],
      "metadata": {
        "colab": {
          "base_uri": "https://localhost:8080/",
          "height": 297
        },
        "id": "NcPAdOSeC16O",
        "outputId": "00ad4026-8687-4a14-c53c-963748b0c4d5"
      },
      "execution_count": 15,
      "outputs": [
        {
          "output_type": "display_data",
          "data": {
            "text/plain": [
              "<Figure size 432x288 with 2 Axes>"
            ],
            "image/png": "[encoded data removed]"
          },
          "metadata": {
            "needs_background": "light"
          }
        }
      ]
    },
    {
      "cell_type": "code",
      "execution_count": null,
      "metadata": {
        "id": "0rmhuyDnLQxY"
      },
      "outputs": [],
      "source": [
        "acc = history.history['accuracy']\n",
        "val_acc = history.history['val_accuracy']\n",
        "\n",
        "loss = history.history['loss']\n",
        "val_loss = history.history['val_loss']\n",
        "\n",
        "epochs_range = range(epochs)\n",
        "\n",
        "plt.figure(figsize=(12, 12))\n",
        "plt.subplot(1, 2, 1)\n",
        "plt.plot(epochs_range, acc, label='Training Accuracy')\n",
        "plt.plot(epochs_range, val_acc, label='Validation Accuracy')\n",
        "plt.legend(loc='lower right')\n",
        "plt.title('Training and Validation Accuracy')\n",
        "\n",
        "plt.subplot(1, 2, 2)\n",
        "plt.plot(epochs_range, loss, label='Training Loss')\n",
        "plt.plot(epochs_range, val_loss, label='Validation Loss')\n",
        "plt.legend(loc='upper right')\n",
        "plt.title('Training and Validation Loss')\n",
        "plt.show()"
      ]
    },
    {
      "cell_type": "code",
      "execution_count": null,
      "metadata": {
        "id": "LjEJKNJrm_JE"
      },
      "outputs": [],
      "source": [
        "#now that we have our neural network trained with tensorflow and keras, we can export it \n",
        "saved_model_dir = '' #means current directory\n",
        "tf.saved_model.save(model, saved_model_dir) #saves to the current directory\n",
        "\n",
        "converter = tf.lite.TFLiteConverter.from_saved_model(saved_model_dir) \n",
        "tflite_model = converter.convert() #converts our model into a .tflite model which flutter uses for ondevice machine learning\n",
        "\n",
        "with open('model.tflite', 'wb') as f: #to write the converted model into a file, written as binary so add 'wb' instead of 'w'\n",
        "  f.write(tflite_model)"
      ]
    },
    {
      "cell_type": "code",
      "execution_count": null,
      "metadata": {
        "colab": {
          "base_uri": "https://localhost:8080/",
          "height": 17
        },
        "id": "8-ERnGfcnFxT",
        "outputId": "37eae3fd-aadc-47f5-d948-dff25d8ec490"
      },
      "outputs": [
        {
          "output_type": "display_data",
          "data": {
            "text/plain": [
              "<IPython.core.display.Javascript object>"
            ],
            "application/javascript": [
              "\n",
              "    async function download(id, filename, size) {\n",
              "      if (!google.colab.kernel.accessAllowed) {\n",
              "        return;\n",
              "      }\n",
              "      const div = document.createElement('div');\n",
              "      const label = document.createElement('label');\n",
              "      label.textContent = `Downloading \"${filename}\": `;\n",
              "      div.appendChild(label);\n",
              "      const progress = document.createElement('progress');\n",
              "      progress.max = size;\n",
              "      div.appendChild(progress);\n",
              "      document.body.appendChild(div);\n",
              "\n",
              "      const buffers = [];\n",
              "      let downloaded = 0;\n",
              "\n",
              "      const channel = await google.colab.kernel.comms.open(id);\n",
              "      // Send a message to notify the kernel that we're ready.\n",
              "      channel.send({})\n",
              "\n",
              "      for await (const message of channel.messages) {\n",
              "        // Send a message to notify the kernel that we're ready.\n",
              "        channel.send({})\n",
              "        if (message.buffers) {\n",
              "          for (const buffer of message.buffers) {\n",
              "            buffers.push(buffer);\n",
              "            downloaded += buffer.byteLength;\n",
              "            progress.value = downloaded;\n",
              "          }\n",
              "        }\n",
              "      }\n",
              "      const blob = new Blob(buffers, {type: 'application/binary'});\n",
              "      const a = document.createElement('a');\n",
              "      a.href = window.URL.createObjectURL(blob);\n",
              "      a.download = filename;\n",
              "      div.appendChild(a);\n",
              "      a.click();\n",
              "      div.remove();\n",
              "    }\n",
              "  "
            ]
          },
          "metadata": {}
        },
        {
          "output_type": "display_data",
          "data": {
            "text/plain": [
              "<IPython.core.display.Javascript object>"
            ],
            "application/javascript": [
              "download(\"download_c7dc2109-ad90-4181-8660-8b3695109513\", \"model.tflite\", 10425844)"
            ]
          },
          "metadata": {}
        },
        {
          "output_type": "display_data",
          "data": {
            "text/plain": [
              "<IPython.core.display.Javascript object>"
            ],
            "application/javascript": [
              "\n",
              "    async function download(id, filename, size) {\n",
              "      if (!google.colab.kernel.accessAllowed) {\n",
              "        return;\n",
              "      }\n",
              "      const div = document.createElement('div');\n",
              "      const label = document.createElement('label');\n",
              "      label.textContent = `Downloading \"${filename}\": `;\n",
              "      div.appendChild(label);\n",
              "      const progress = document.createElement('progress');\n",
              "      progress.max = size;\n",
              "      div.appendChild(progress);\n",
              "      document.body.appendChild(div);\n",
              "\n",
              "      const buffers = [];\n",
              "      let downloaded = 0;\n",
              "\n",
              "      const channel = await google.colab.kernel.comms.open(id);\n",
              "      // Send a message to notify the kernel that we're ready.\n",
              "      channel.send({})\n",
              "\n",
              "      for await (const message of channel.messages) {\n",
              "        // Send a message to notify the kernel that we're ready.\n",
              "        channel.send({})\n",
              "        if (message.buffers) {\n",
              "          for (const buffer of message.buffers) {\n",
              "            buffers.push(buffer);\n",
              "            downloaded += buffer.byteLength;\n",
              "            progress.value = downloaded;\n",
              "          }\n",
              "        }\n",
              "      }\n",
              "      const blob = new Blob(buffers, {type: 'application/binary'});\n",
              "      const a = document.createElement('a');\n",
              "      a.href = window.URL.createObjectURL(blob);\n",
              "      a.download = filename;\n",
              "      div.appendChild(a);\n",
              "      a.click();\n",
              "      div.remove();\n",
              "    }\n",
              "  "
            ]
          },
          "metadata": {}
        },
        {
          "output_type": "display_data",
          "data": {
            "text/plain": [
              "<IPython.core.display.Javascript object>"
            ],
            "application/javascript": [
              "download(\"download_495a664e-0dae-4f95-842b-ee5b22c40a26\", \"labels.txt\", 271)"
            ]
          },
          "metadata": {}
        }
      ],
      "source": [
        "#use below codes to download files locally if using google colab\n",
        "from google.colab import files\n",
        "files.download('model.tflite')\n",
        "files.download('labels.txt')"
      ]
    }
  ],
  "metadata": {
    "colab": {
      "collapsed_sections": [],
      "name": "DataTraining.ipynb",
      "provenance": []
    },
    "kernelspec": {
      "display_name": "Python 3",
      "name": "python3"
    },
    "language_info": {
      "name": "python"
    },
    "accelerator": "GPU"
  },
  "nbformat": 4,
  "nbformat_minor": 0
}